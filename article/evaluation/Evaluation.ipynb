{
 "cells": [
  {
   "cell_type": "markdown",
   "metadata": {},
   "source": [
    "**Evaluation of the EELSpecNet model**"
   ]
  },
  {
   "cell_type": "code",
   "execution_count": null,
   "metadata": {
    "id": "q1HjbECGDXOK"
   },
   "outputs": [],
   "source": [
    "import tensorflow as tf \n",
    "import numpy as np \n",
    "import matplotlib.pyplot as plt \n",
    "import pandas as pd "
   ]
  },
  {
   "cell_type": "markdown",
   "metadata": {},
   "source": [
    "Load model"
   ]
  },
  {
   "cell_type": "code",
   "execution_count": null,
   "metadata": {
    "id": "tL7_ZdjRDZSO"
   },
   "outputs": [],
   "source": [
    "# Download from google drive (to write a small code)\n",
    "model = tf.keras.models.load_model(\"general_6000-lw file from Google Drive\")"
   ]
  },
  {
   "cell_type": "markdown",
   "metadata": {},
   "source": [
    "Load data for model evaluation"
   ]
  },
  {
   "cell_type": "code",
   "execution_count": null,
   "metadata": {
    "id": "bsNlUJ4cDZPH"
   },
   "outputs": [],
   "source": [
    "original = np.load(\"original_eval_general_2000.npy\")\n",
    "conv = np.load(\"convolved_eval_general_2000.npy\")"
   ]
  },
  {
   "cell_type": "markdown",
   "metadata": {},
   "source": [
    "Data preparation"
   ]
  },
  {
   "cell_type": "code",
   "execution_count": null,
   "metadata": {
    "id": "LF8eDdDpDZMF"
   },
   "outputs": [],
   "source": [
    "original += 0.001\n",
    "conv += 0.001\n",
    "\n",
    "original = original.reshape((2000, 1, 2048, 1))\n",
    "conv = conv.reshape((2000,1,2048,1))"
   ]
  },
  {
   "cell_type": "markdown",
   "metadata": {
    "id": "guf03oLGDZI1"
   },
   "source": [
    "Evaluation of the model with the target"
   ]
  },
  {
   "cell_type": "code",
   "execution_count": null,
   "metadata": {
    "colab": {
     "base_uri": "https://localhost:8080/"
    },
    "executionInfo": {
     "elapsed": 21741,
     "status": "ok",
     "timestamp": 1634448337512,
     "user": {
      "displayName": "shayan mousavi masouleh",
      "photoUrl": "https://lh3.googleusercontent.com/a/default-user=s64",
      "userId": "02242213354548196400"
     },
     "user_tz": 240
    },
    "id": "ksksrfuFnHos",
    "outputId": "e2494d8b-8fad-4547-d0e3-a164e1833725"
   },
   "outputs": [],
   "source": [
    "history = model.evaluate(conv, original)"
   ]
  },
  {
   "cell_type": "markdown",
   "metadata": {},
   "source": [
    "Deconvolution of the evaluation data using EELSpecNet"
   ]
  },
  {
   "cell_type": "code",
   "execution_count": null,
   "metadata": {
    "id": "QRsArmjJDY6c"
   },
   "outputs": [],
   "source": [
    "prediction = model.predict(conv)"
   ]
  },
  {
   "cell_type": "markdown",
   "metadata": {},
   "source": [
    "Save the deconvoluted data"
   ]
  },
  {
   "cell_type": "code",
   "execution_count": null,
   "metadata": {
    "id": "eLhU6jCHDY2s"
   },
   "outputs": [],
   "source": [
    "prediction = prediction.reshape((2000,2048))\n",
    "np.save(\"deconv_eval_lw_general_2000.npy\", prediction)"
   ]
  }
 ],
 "metadata": {
  "accelerator": "GPU",
  "colab": {
   "machine_shape": "hm",
   "name": "Evaluation.ipynb",
   "provenance": []
  },
  "kernelspec": {
   "display_name": "Python 3 (ipykernel)",
   "language": "python",
   "name": "python3"
  },
  "language_info": {
   "codemirror_mode": {
    "name": "ipython",
    "version": 3
   },
   "file_extension": ".py",
   "mimetype": "text/x-python",
   "name": "python",
   "nbconvert_exporter": "python",
   "pygments_lexer": "ipython3",
   "version": "3.9.0"
  }
 },
 "nbformat": 4,
 "nbformat_minor": 1
}
